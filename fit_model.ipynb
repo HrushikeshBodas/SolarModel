{
  "nbformat": 4,
  "nbformat_minor": 0,
  "metadata": {
    "colab": {
      "name": "MM_Image.ipynb",
      "provenance": [],
      "collapsed_sections": []
    },
    "kernelspec": {
      "name": "python3",
      "display_name": "Python 3"
    },
    "language_info": {
      "name": "python"
    }
  },
  "cells": [
    {
      "cell_type": "code",
      "metadata": {
        "id": "cSKCM0SxPS0s"
      },
      "source": [
        "import sklearn as sk\n",
        "import numpy as np\n",
        "import pandas as pd\n",
        "from matplotlib import pyplot as plt\n",
        "import seaborn as sns\n",
        "sns.set_theme()\n",
        "import warnings\n",
        "warnings.filterwarnings('ignore')"
      ],
      "execution_count": null,
      "outputs": []
    },
    {
      "cell_type": "code",
      "metadata": {
        "id": "MIn2AbvlRIqo"
      },
      "source": [
        "cp drive/MyDrive/data/millenium/* ./"
      ],
      "execution_count": null,
      "outputs": []
    },
    {
      "cell_type": "code",
      "metadata": {
        "colab": {
          "base_uri": "https://localhost:8080/",
          "height": 256
        },
        "id": "eKvLjaJjPgLe",
        "outputId": "fe859d6d-791e-40c5-9932-d2c3f3ba38f0"
      },
      "source": [
        "df_train = pd.read_csv('train.csv', header=None)\n",
        "df_test  = pd.read_csv('test.csv', header=None)\n",
        "df_train.head()"
      ],
      "execution_count": null,
      "outputs": [
        {
          "output_type": "execute_result",
          "data": {
            "text/html": [
              "<div>\n",
              "<style scoped>\n",
              "    .dataframe tbody tr th:only-of-type {\n",
              "        vertical-align: middle;\n",
              "    }\n",
              "\n",
              "    .dataframe tbody tr th {\n",
              "        vertical-align: top;\n",
              "    }\n",
              "\n",
              "    .dataframe thead th {\n",
              "        text-align: right;\n",
              "    }\n",
              "</style>\n",
              "<table border=\"1\" class=\"dataframe\">\n",
              "  <thead>\n",
              "    <tr style=\"text-align: right;\">\n",
              "      <th></th>\n",
              "      <th>0</th>\n",
              "      <th>1</th>\n",
              "      <th>2</th>\n",
              "      <th>3</th>\n",
              "      <th>4</th>\n",
              "      <th>5</th>\n",
              "      <th>6</th>\n",
              "      <th>7</th>\n",
              "      <th>8</th>\n",
              "      <th>9</th>\n",
              "      <th>10</th>\n",
              "      <th>11</th>\n",
              "      <th>12</th>\n",
              "      <th>13</th>\n",
              "      <th>14</th>\n",
              "      <th>15</th>\n",
              "      <th>16</th>\n",
              "      <th>17</th>\n",
              "      <th>18</th>\n",
              "      <th>19</th>\n",
              "      <th>20</th>\n",
              "      <th>21</th>\n",
              "      <th>22</th>\n",
              "      <th>23</th>\n",
              "      <th>24</th>\n",
              "      <th>25</th>\n",
              "      <th>26</th>\n",
              "      <th>27</th>\n",
              "      <th>28</th>\n",
              "      <th>29</th>\n",
              "      <th>30</th>\n",
              "      <th>31</th>\n",
              "      <th>32</th>\n",
              "      <th>33</th>\n",
              "      <th>34</th>\n",
              "      <th>35</th>\n",
              "      <th>36</th>\n",
              "      <th>37</th>\n",
              "      <th>38</th>\n",
              "      <th>39</th>\n",
              "      <th>...</th>\n",
              "      <th>260</th>\n",
              "      <th>261</th>\n",
              "      <th>262</th>\n",
              "      <th>263</th>\n",
              "      <th>264</th>\n",
              "      <th>265</th>\n",
              "      <th>266</th>\n",
              "      <th>267</th>\n",
              "      <th>268</th>\n",
              "      <th>269</th>\n",
              "      <th>270</th>\n",
              "      <th>271</th>\n",
              "      <th>272</th>\n",
              "      <th>273</th>\n",
              "      <th>274</th>\n",
              "      <th>275</th>\n",
              "      <th>276</th>\n",
              "      <th>277</th>\n",
              "      <th>278</th>\n",
              "      <th>279</th>\n",
              "      <th>280</th>\n",
              "      <th>281</th>\n",
              "      <th>282</th>\n",
              "      <th>283</th>\n",
              "      <th>284</th>\n",
              "      <th>285</th>\n",
              "      <th>286</th>\n",
              "      <th>287</th>\n",
              "      <th>288</th>\n",
              "      <th>289</th>\n",
              "      <th>290</th>\n",
              "      <th>291</th>\n",
              "      <th>292</th>\n",
              "      <th>293</th>\n",
              "      <th>294</th>\n",
              "      <th>295</th>\n",
              "      <th>296</th>\n",
              "      <th>297</th>\n",
              "      <th>298</th>\n",
              "      <th>299</th>\n",
              "    </tr>\n",
              "  </thead>\n",
              "  <tbody>\n",
              "    <tr>\n",
              "      <th>0</th>\n",
              "      <td>0.826575</td>\n",
              "      <td>0.843082</td>\n",
              "      <td>0.805944</td>\n",
              "      <td>0.785864</td>\n",
              "      <td>0.772749</td>\n",
              "      <td>0.854208</td>\n",
              "      <td>0.863394</td>\n",
              "      <td>0.816732</td>\n",
              "      <td>0.829742</td>\n",
              "      <td>0.776793</td>\n",
              "      <td>0.779615</td>\n",
              "      <td>0.796459</td>\n",
              "      <td>0.838491</td>\n",
              "      <td>0.792806</td>\n",
              "      <td>0.842058</td>\n",
              "      <td>0.757744</td>\n",
              "      <td>0.698764</td>\n",
              "      <td>0.847413</td>\n",
              "      <td>0.744884</td>\n",
              "      <td>0.764534</td>\n",
              "      <td>0.905775</td>\n",
              "      <td>0.810743</td>\n",
              "      <td>0.574111</td>\n",
              "      <td>0.664428</td>\n",
              "      <td>0.838431</td>\n",
              "      <td>0.751858</td>\n",
              "      <td>0.753316</td>\n",
              "      <td>0.849535</td>\n",
              "      <td>0.303032</td>\n",
              "      <td>0.339511</td>\n",
              "      <td>0.499761</td>\n",
              "      <td>0.582015</td>\n",
              "      <td>0.686515</td>\n",
              "      <td>0.457332</td>\n",
              "      <td>0.587442</td>\n",
              "      <td>0.484111</td>\n",
              "      <td>0.491995</td>\n",
              "      <td>0.611001</td>\n",
              "      <td>0.607850</td>\n",
              "      <td>0.582491</td>\n",
              "      <td>...</td>\n",
              "      <td>0.113304</td>\n",
              "      <td>0.141189</td>\n",
              "      <td>0.040872</td>\n",
              "      <td>0.046161</td>\n",
              "      <td>0.036707</td>\n",
              "      <td>0.052664</td>\n",
              "      <td>0.029926</td>\n",
              "      <td>0.134130</td>\n",
              "      <td>0.102104</td>\n",
              "      <td>0.073610</td>\n",
              "      <td>0.038518</td>\n",
              "      <td>0.025130</td>\n",
              "      <td>0.015412</td>\n",
              "      <td>0.122872</td>\n",
              "      <td>0.158462</td>\n",
              "      <td>0.129839</td>\n",
              "      <td>0.163791</td>\n",
              "      <td>0.127901</td>\n",
              "      <td>0.176722</td>\n",
              "      <td>0.099130</td>\n",
              "      <td>0.443695</td>\n",
              "      <td>0.382850</td>\n",
              "      <td>0.355990</td>\n",
              "      <td>0.414432</td>\n",
              "      <td>0.317461</td>\n",
              "      <td>0.189214</td>\n",
              "      <td>0.269183</td>\n",
              "      <td>0.016788</td>\n",
              "      <td>0.013705</td>\n",
              "      <td>0.012601</td>\n",
              "      <td>0.010687</td>\n",
              "      <td>0.010919</td>\n",
              "      <td>0.011375</td>\n",
              "      <td>0.015069</td>\n",
              "      <td>0</td>\n",
              "      <td>0</td>\n",
              "      <td>0</td>\n",
              "      <td>1</td>\n",
              "      <td>0</td>\n",
              "      <td>1</td>\n",
              "    </tr>\n",
              "    <tr>\n",
              "      <th>1</th>\n",
              "      <td>0.766867</td>\n",
              "      <td>0.669694</td>\n",
              "      <td>0.636238</td>\n",
              "      <td>0.612133</td>\n",
              "      <td>0.639010</td>\n",
              "      <td>0.603999</td>\n",
              "      <td>0.583958</td>\n",
              "      <td>0.775580</td>\n",
              "      <td>0.815867</td>\n",
              "      <td>0.676433</td>\n",
              "      <td>0.656098</td>\n",
              "      <td>0.753844</td>\n",
              "      <td>0.674493</td>\n",
              "      <td>0.631642</td>\n",
              "      <td>0.738733</td>\n",
              "      <td>0.813003</td>\n",
              "      <td>0.730447</td>\n",
              "      <td>0.670668</td>\n",
              "      <td>0.677323</td>\n",
              "      <td>0.748249</td>\n",
              "      <td>0.693352</td>\n",
              "      <td>0.782133</td>\n",
              "      <td>0.805960</td>\n",
              "      <td>0.743947</td>\n",
              "      <td>0.611240</td>\n",
              "      <td>0.632528</td>\n",
              "      <td>0.812389</td>\n",
              "      <td>0.637667</td>\n",
              "      <td>0.475344</td>\n",
              "      <td>0.535699</td>\n",
              "      <td>0.592320</td>\n",
              "      <td>0.598006</td>\n",
              "      <td>0.672811</td>\n",
              "      <td>0.615974</td>\n",
              "      <td>0.580945</td>\n",
              "      <td>0.569229</td>\n",
              "      <td>0.594587</td>\n",
              "      <td>0.555721</td>\n",
              "      <td>0.549745</td>\n",
              "      <td>0.510593</td>\n",
              "      <td>...</td>\n",
              "      <td>0.027936</td>\n",
              "      <td>0.007563</td>\n",
              "      <td>0.151871</td>\n",
              "      <td>0.070208</td>\n",
              "      <td>0.242322</td>\n",
              "      <td>0.019004</td>\n",
              "      <td>0.014358</td>\n",
              "      <td>0.050794</td>\n",
              "      <td>0.123046</td>\n",
              "      <td>0.107319</td>\n",
              "      <td>0.046706</td>\n",
              "      <td>0.041851</td>\n",
              "      <td>0.082779</td>\n",
              "      <td>0.119522</td>\n",
              "      <td>0.114285</td>\n",
              "      <td>0.052862</td>\n",
              "      <td>0.069018</td>\n",
              "      <td>0.034819</td>\n",
              "      <td>0.132430</td>\n",
              "      <td>0.190853</td>\n",
              "      <td>0.043030</td>\n",
              "      <td>0.035736</td>\n",
              "      <td>0.044215</td>\n",
              "      <td>0.055009</td>\n",
              "      <td>0.078913</td>\n",
              "      <td>0.175919</td>\n",
              "      <td>0.223353</td>\n",
              "      <td>0.041061</td>\n",
              "      <td>0.050408</td>\n",
              "      <td>0.051189</td>\n",
              "      <td>0.050673</td>\n",
              "      <td>0.055661</td>\n",
              "      <td>0.079765</td>\n",
              "      <td>0.097522</td>\n",
              "      <td>0</td>\n",
              "      <td>0</td>\n",
              "      <td>0</td>\n",
              "      <td>1</td>\n",
              "      <td>0</td>\n",
              "      <td>1</td>\n",
              "    </tr>\n",
              "    <tr>\n",
              "      <th>2</th>\n",
              "      <td>0.962784</td>\n",
              "      <td>0.975387</td>\n",
              "      <td>0.963950</td>\n",
              "      <td>0.955206</td>\n",
              "      <td>0.956827</td>\n",
              "      <td>0.971538</td>\n",
              "      <td>0.975437</td>\n",
              "      <td>0.934207</td>\n",
              "      <td>0.858234</td>\n",
              "      <td>0.742964</td>\n",
              "      <td>0.839465</td>\n",
              "      <td>0.765593</td>\n",
              "      <td>0.926303</td>\n",
              "      <td>0.982745</td>\n",
              "      <td>0.950932</td>\n",
              "      <td>0.856413</td>\n",
              "      <td>0.718964</td>\n",
              "      <td>0.850750</td>\n",
              "      <td>0.785884</td>\n",
              "      <td>0.922892</td>\n",
              "      <td>0.988171</td>\n",
              "      <td>0.944247</td>\n",
              "      <td>0.840710</td>\n",
              "      <td>0.713282</td>\n",
              "      <td>0.826791</td>\n",
              "      <td>0.720847</td>\n",
              "      <td>0.876573</td>\n",
              "      <td>0.980914</td>\n",
              "      <td>0.794011</td>\n",
              "      <td>0.756979</td>\n",
              "      <td>0.640517</td>\n",
              "      <td>0.671108</td>\n",
              "      <td>0.659003</td>\n",
              "      <td>0.649349</td>\n",
              "      <td>0.606420</td>\n",
              "      <td>0.689294</td>\n",
              "      <td>0.691110</td>\n",
              "      <td>0.613118</td>\n",
              "      <td>0.626651</td>\n",
              "      <td>0.501959</td>\n",
              "      <td>...</td>\n",
              "      <td>0.032828</td>\n",
              "      <td>0.004701</td>\n",
              "      <td>0.010187</td>\n",
              "      <td>0.004174</td>\n",
              "      <td>0.005082</td>\n",
              "      <td>0.001456</td>\n",
              "      <td>0.001563</td>\n",
              "      <td>0.032216</td>\n",
              "      <td>0.007985</td>\n",
              "      <td>0.015745</td>\n",
              "      <td>0.068779</td>\n",
              "      <td>0.060035</td>\n",
              "      <td>0.001721</td>\n",
              "      <td>0.165198</td>\n",
              "      <td>0.206641</td>\n",
              "      <td>0.362920</td>\n",
              "      <td>0.261239</td>\n",
              "      <td>0.182758</td>\n",
              "      <td>0.109762</td>\n",
              "      <td>0.146467</td>\n",
              "      <td>0.302947</td>\n",
              "      <td>0.288413</td>\n",
              "      <td>0.260631</td>\n",
              "      <td>0.233557</td>\n",
              "      <td>0.209348</td>\n",
              "      <td>0.169218</td>\n",
              "      <td>0.337669</td>\n",
              "      <td>0.083091</td>\n",
              "      <td>0.187438</td>\n",
              "      <td>0.532243</td>\n",
              "      <td>0.232948</td>\n",
              "      <td>0.195177</td>\n",
              "      <td>0.221791</td>\n",
              "      <td>0.201402</td>\n",
              "      <td>0</td>\n",
              "      <td>0</td>\n",
              "      <td>0</td>\n",
              "      <td>1</td>\n",
              "      <td>0</td>\n",
              "      <td>1</td>\n",
              "    </tr>\n",
              "    <tr>\n",
              "      <th>3</th>\n",
              "      <td>0.758844</td>\n",
              "      <td>0.772668</td>\n",
              "      <td>0.791800</td>\n",
              "      <td>0.827195</td>\n",
              "      <td>0.861022</td>\n",
              "      <td>0.755208</td>\n",
              "      <td>0.669177</td>\n",
              "      <td>0.754382</td>\n",
              "      <td>0.675287</td>\n",
              "      <td>0.773369</td>\n",
              "      <td>0.757682</td>\n",
              "      <td>0.688823</td>\n",
              "      <td>0.710866</td>\n",
              "      <td>0.766792</td>\n",
              "      <td>0.539873</td>\n",
              "      <td>0.439877</td>\n",
              "      <td>0.713732</td>\n",
              "      <td>0.610776</td>\n",
              "      <td>0.575085</td>\n",
              "      <td>0.472539</td>\n",
              "      <td>0.596526</td>\n",
              "      <td>0.442304</td>\n",
              "      <td>0.506889</td>\n",
              "      <td>0.561051</td>\n",
              "      <td>0.500253</td>\n",
              "      <td>0.507535</td>\n",
              "      <td>0.405099</td>\n",
              "      <td>0.509126</td>\n",
              "      <td>0.366228</td>\n",
              "      <td>0.464582</td>\n",
              "      <td>0.498804</td>\n",
              "      <td>0.463746</td>\n",
              "      <td>0.472523</td>\n",
              "      <td>0.354860</td>\n",
              "      <td>0.452510</td>\n",
              "      <td>0.445907</td>\n",
              "      <td>0.380059</td>\n",
              "      <td>0.624031</td>\n",
              "      <td>0.524873</td>\n",
              "      <td>0.494068</td>\n",
              "      <td>...</td>\n",
              "      <td>0.385792</td>\n",
              "      <td>0.296004</td>\n",
              "      <td>0.267557</td>\n",
              "      <td>0.694374</td>\n",
              "      <td>0.134737</td>\n",
              "      <td>0.222545</td>\n",
              "      <td>0.154248</td>\n",
              "      <td>0.340014</td>\n",
              "      <td>0.336629</td>\n",
              "      <td>0.291258</td>\n",
              "      <td>0.641324</td>\n",
              "      <td>0.325588</td>\n",
              "      <td>0.192433</td>\n",
              "      <td>0.134867</td>\n",
              "      <td>0.202801</td>\n",
              "      <td>0.249167</td>\n",
              "      <td>0.197432</td>\n",
              "      <td>0.439424</td>\n",
              "      <td>0.236846</td>\n",
              "      <td>0.148564</td>\n",
              "      <td>0.262371</td>\n",
              "      <td>0.262888</td>\n",
              "      <td>0.208767</td>\n",
              "      <td>0.171912</td>\n",
              "      <td>0.370191</td>\n",
              "      <td>0.084081</td>\n",
              "      <td>0.145852</td>\n",
              "      <td>0.148042</td>\n",
              "      <td>0.211724</td>\n",
              "      <td>0.115635</td>\n",
              "      <td>0.297193</td>\n",
              "      <td>0.254088</td>\n",
              "      <td>0.221800</td>\n",
              "      <td>0.146297</td>\n",
              "      <td>0</td>\n",
              "      <td>0</td>\n",
              "      <td>1</td>\n",
              "      <td>0</td>\n",
              "      <td>0</td>\n",
              "      <td>0</td>\n",
              "    </tr>\n",
              "    <tr>\n",
              "      <th>4</th>\n",
              "      <td>0.767603</td>\n",
              "      <td>0.875207</td>\n",
              "      <td>0.866511</td>\n",
              "      <td>0.874739</td>\n",
              "      <td>0.818681</td>\n",
              "      <td>0.826858</td>\n",
              "      <td>0.842438</td>\n",
              "      <td>0.773873</td>\n",
              "      <td>0.877341</td>\n",
              "      <td>0.867682</td>\n",
              "      <td>0.761296</td>\n",
              "      <td>0.695048</td>\n",
              "      <td>0.654743</td>\n",
              "      <td>0.685375</td>\n",
              "      <td>0.684643</td>\n",
              "      <td>0.781965</td>\n",
              "      <td>0.834847</td>\n",
              "      <td>0.774313</td>\n",
              "      <td>0.639332</td>\n",
              "      <td>0.592065</td>\n",
              "      <td>0.489529</td>\n",
              "      <td>0.465693</td>\n",
              "      <td>0.549283</td>\n",
              "      <td>0.508727</td>\n",
              "      <td>0.507610</td>\n",
              "      <td>0.520886</td>\n",
              "      <td>0.610026</td>\n",
              "      <td>0.649071</td>\n",
              "      <td>0.377131</td>\n",
              "      <td>0.388111</td>\n",
              "      <td>0.363016</td>\n",
              "      <td>0.497978</td>\n",
              "      <td>0.512576</td>\n",
              "      <td>0.445695</td>\n",
              "      <td>0.507468</td>\n",
              "      <td>0.420926</td>\n",
              "      <td>0.385721</td>\n",
              "      <td>0.525330</td>\n",
              "      <td>0.562466</td>\n",
              "      <td>0.540347</td>\n",
              "      <td>...</td>\n",
              "      <td>0.284830</td>\n",
              "      <td>0.176423</td>\n",
              "      <td>0.159641</td>\n",
              "      <td>0.199182</td>\n",
              "      <td>0.306721</td>\n",
              "      <td>0.289498</td>\n",
              "      <td>0.233314</td>\n",
              "      <td>0.258575</td>\n",
              "      <td>0.208342</td>\n",
              "      <td>0.171501</td>\n",
              "      <td>0.142715</td>\n",
              "      <td>0.377999</td>\n",
              "      <td>0.476940</td>\n",
              "      <td>0.161439</td>\n",
              "      <td>0.179262</td>\n",
              "      <td>0.075553</td>\n",
              "      <td>0.315224</td>\n",
              "      <td>0.159809</td>\n",
              "      <td>0.151944</td>\n",
              "      <td>0.189172</td>\n",
              "      <td>0.643637</td>\n",
              "      <td>0.301675</td>\n",
              "      <td>0.620394</td>\n",
              "      <td>0.424268</td>\n",
              "      <td>0.442008</td>\n",
              "      <td>0.347993</td>\n",
              "      <td>0.256008</td>\n",
              "      <td>0.166874</td>\n",
              "      <td>0.100561</td>\n",
              "      <td>0.157648</td>\n",
              "      <td>0.129825</td>\n",
              "      <td>0.075116</td>\n",
              "      <td>0.060953</td>\n",
              "      <td>0.022725</td>\n",
              "      <td>0</td>\n",
              "      <td>0</td>\n",
              "      <td>1</td>\n",
              "      <td>0</td>\n",
              "      <td>0</td>\n",
              "      <td>0</td>\n",
              "    </tr>\n",
              "  </tbody>\n",
              "</table>\n",
              "<p>5 rows × 300 columns</p>\n",
              "</div>"
            ],
            "text/plain": [
              "        0         1         2         3         4    ...  295  296  297  298  299\n",
              "0  0.826575  0.843082  0.805944  0.785864  0.772749  ...    0    0    1    0    1\n",
              "1  0.766867  0.669694  0.636238  0.612133  0.639010  ...    0    0    1    0    1\n",
              "2  0.962784  0.975387  0.963950  0.955206  0.956827  ...    0    0    1    0    1\n",
              "3  0.758844  0.772668  0.791800  0.827195  0.861022  ...    0    1    0    0    0\n",
              "4  0.767603  0.875207  0.866511  0.874739  0.818681  ...    0    1    0    0    0\n",
              "\n",
              "[5 rows x 300 columns]"
            ]
          },
          "metadata": {},
          "execution_count": 3
        }
      ]
    },
    {
      "cell_type": "code",
      "metadata": {
        "id": "4D2Lpfp4AOMR"
      },
      "source": [
        ""
      ],
      "execution_count": null,
      "outputs": []
    },
    {
      "cell_type": "code",
      "metadata": {
        "id": "LyH4H4M3RanN"
      },
      "source": [
        "X = np.array(df_train.iloc[:, :-6])\n",
        "y = np.array(df_train.iloc[:, -6:])\n",
        "mu, sigma = X.mean(0), X.std(0)\n",
        "X = (X - mu) / sigma"
      ],
      "execution_count": null,
      "outputs": []
    },
    {
      "cell_type": "code",
      "metadata": {
        "id": "ZI2We8aJCYDN"
      },
      "source": [
        ""
      ],
      "execution_count": null,
      "outputs": []
    },
    {
      "cell_type": "markdown",
      "metadata": {
        "id": "rc9NVfYJJPNu"
      },
      "source": [
        "## Data Analysis\n",
        "Lets look at the correlation between output variables and the correlation between outputs with inputs."
      ]
    },
    {
      "cell_type": "code",
      "metadata": {
        "id": "frZkxkBuCYFt",
        "colab": {
          "base_uri": "https://localhost:8080/",
          "height": 272
        },
        "outputId": "616bceaa-9b12-4230-a695-72f686ecb661"
      },
      "source": [
        "y_corr = np.array(df_train.iloc[:,-6:].corr())\n",
        "plt.imshow(abs(y_corr), interpolation='nearest', aspect='auto')\n",
        "plt.grid()\n",
        "plt.clim(0, 1)\n",
        "plt.colorbar()\n",
        "plt.show()"
      ],
      "execution_count": null,
      "outputs": [
        {
          "output_type": "display_data",
          "data": {
            "image/png": "[encoded data removed]",
            "text/plain": [
              "<Figure size 432x288 with 2 Axes>"
            ]
          },
          "metadata": {
            "needs_background": "light"
          }
        }
      ]
    },
    {
      "cell_type": "code",
      "metadata": {
        "id": "VD5-Q_hfhd8i",
        "colab": {
          "base_uri": "https://localhost:8080/",
          "height": 272
        },
        "outputId": "e3121aec-17ed-481c-d217-c4728a4f30de"
      },
      "source": [
        "corr = np.array(df_train.corr().iloc[-6:,:-6])\n",
        "plt.imshow(abs(corr), interpolation='nearest', aspect='auto')\n",
        "plt.grid()\n",
        "plt.clim(0, 1)\n",
        "plt.colorbar()\n",
        "plt.show()"
      ],
      "execution_count": null,
      "outputs": [
        {
          "output_type": "display_data",
          "data": {
            "image/png": "[encoded data removed]",
            "text/plain": [
              "<Figure size 432x288 with 2 Axes>"
            ]
          },
          "metadata": {
            "needs_background": "light"
          }
        }
      ]
    },
    {
      "cell_type": "markdown",
      "metadata": {
        "id": "ZLxDORDbJ1_Y"
      },
      "source": [
        "- As we can observe from these plots, the output variables have some correlation between the, so it would make sense to predict each of them using a single multi-label classifier model rather than an independent model for each class. I have trid both methods below\n",
        "\n",
        "- We can see that most variables aren't very highly correlated, hence performing dimension reduction can hurt performance. So I'm skipping this step.\n",
        "\n"
      ]
    },
    {
      "cell_type": "code",
      "metadata": {
        "id": "15wUSR76R173"
      },
      "source": [
        "import xgboost as xgb\n",
        "from sklearn.neural_network import MLPClassifier\n",
        "from sklearn.model_selection import train_test_split\n",
        "from sklearn.multioutput import MultiOutputClassifier\n",
        "from sklearn.ensemble import VotingClassifier\n",
        "from sklearn.metrics import classification_report\n",
        "from sklearn.svm import SVC\n",
        "\n",
        "X_train, X_test, y_train, y_test = train_test_split(X, y, test_size=0.2, stratify=y, random_state=1)"
      ],
      "execution_count": null,
      "outputs": []
    },
    {
      "cell_type": "code",
      "metadata": {
        "id": "IME_o3fy7IyL"
      },
      "source": [
        ""
      ],
      "execution_count": null,
      "outputs": []
    },
    {
      "cell_type": "markdown",
      "metadata": {
        "id": "Ik8cN9enfJH-"
      },
      "source": [
        "---\n",
        "I am using a collection of XGBclassifiers for predicting each variable sperately"
      ]
    },
    {
      "cell_type": "code",
      "metadata": {
        "id": "oXCnsqPgk8TO",
        "colab": {
          "base_uri": "https://localhost:8080/"
        },
        "outputId": "d284baf2-b356-4e52-ed9a-11ece104e8f1"
      },
      "source": [
        "model = xgb.XGBClassifier(n_estimators=200, max_depth=4, learning_rate=0.5)\n",
        "multi_xgb = MultiOutputClassifier(model)\n",
        "multi_xgb.fit(X_train, y_train)\n",
        "y_pred = multi_xgb.predict(X_test)\n",
        "print(\"Classification Report\")\n",
        "print(classification_report(y_test, y_pred))\n",
        "print(f\"Accuracy = {100*multi_xgb.score(X_test, y_test):.02f}%\")"
      ],
      "execution_count": null,
      "outputs": [
        {
          "output_type": "stream",
          "name": "stdout",
          "text": [
            "Classification Report\n",
            "              precision    recall  f1-score   support\n",
            "\n",
            "           0       0.88      0.70      0.78        50\n",
            "           1       0.90      0.86      0.88        44\n",
            "           2       0.84      0.77      0.80        47\n",
            "           3       0.89      0.81      0.85        52\n",
            "           4       0.70      0.37      0.48        63\n",
            "           5       0.81      0.58      0.67        52\n",
            "\n",
            "   micro avg       0.84      0.66      0.74       308\n",
            "   macro avg       0.84      0.68      0.74       308\n",
            "weighted avg       0.83      0.66      0.73       308\n",
            " samples avg       0.67      0.68      0.66       308\n",
            "\n",
            "Accuracy = 60.42%\n"
          ]
        }
      ]
    },
    {
      "cell_type": "markdown",
      "metadata": {
        "id": "rfnL83r1fa7H"
      },
      "source": [
        "---\n",
        "I'm using a deep neural network for predicting the 6 output variables using same model in end-to-end fashion."
      ]
    },
    {
      "cell_type": "code",
      "metadata": {
        "colab": {
          "base_uri": "https://localhost:8080/"
        },
        "id": "cha20pOrMHWl",
        "outputId": "2ce41f34-923a-413c-f5d1-d142bffced5b"
      },
      "source": [
        "nn = MLPClassifier(hidden_layer_sizes=(256, 128, 64), max_iter=50, early_stopping=True,\n",
        "                   solver='adam', learning_rate='adaptive')\n",
        "nn.fit(X_train, y_train)\n",
        "y_pred = nn.predict(X_test)\n",
        "print(\"Classification Report\")\n",
        "print(classification_report(y_test, y_pred))\n",
        "print(f\"Accuracy = {100*nn.score(X_test, y_test):.02f}%\")"
      ],
      "execution_count": null,
      "outputs": [
        {
          "output_type": "stream",
          "name": "stdout",
          "text": [
            "Classification Report\n",
            "              precision    recall  f1-score   support\n",
            "\n",
            "           0       0.89      0.68      0.77        50\n",
            "           1       0.83      0.86      0.84        44\n",
            "           2       0.79      0.81      0.80        47\n",
            "           3       0.82      0.79      0.80        52\n",
            "           4       0.66      0.49      0.56        63\n",
            "           5       0.79      0.52      0.63        52\n",
            "\n",
            "   micro avg       0.79      0.68      0.73       308\n",
            "   macro avg       0.80      0.69      0.74       308\n",
            "weighted avg       0.79      0.68      0.73       308\n",
            " samples avg       0.70      0.70      0.69       308\n",
            "\n",
            "Accuracy = 63.54%\n"
          ]
        }
      ]
    },
    {
      "cell_type": "code",
      "metadata": {
        "id": "nzlMl71VIBBm"
      },
      "source": [
        ""
      ],
      "execution_count": null,
      "outputs": []
    },
    {
      "cell_type": "code",
      "metadata": {
        "id": "AUmi6hboijTz"
      },
      "source": [
        "X_infer = np.array(df_test)\n",
        "X_infer = (X_infer - mu) / sigma\n",
        "y_infer = nn.predict(X_infer)"
      ],
      "execution_count": null,
      "outputs": []
    },
    {
      "cell_type": "code",
      "metadata": {
        "id": "JQ4LpuqbitrQ"
      },
      "source": [
        "with open('out.csv', 'w') as f:\n",
        "    for y in y_infer:\n",
        "        s = ', '.join(str(i) for i in y)+'\\n'\n",
        "        f.write(s)"
      ],
      "execution_count": null,
      "outputs": []
    },
    {
      "cell_type": "code",
      "metadata": {
        "colab": {
          "base_uri": "https://localhost:8080/"
        },
        "id": "yS8_4uutjsxh",
        "outputId": "44f999a0-975a-4d26-f547-dcc2f291c3db"
      },
      "source": [
        "!wc -l out.csv"
      ],
      "execution_count": null,
      "outputs": [
        {
          "output_type": "stream",
          "name": "stdout",
          "text": [
            "966 out.csv\n"
          ]
        }
      ]
    },
    {
      "cell_type": "code",
      "metadata": {
        "colab": {
          "base_uri": "https://localhost:8080/"
        },
        "id": "SYl-Ey3HkPXJ",
        "outputId": "fd564f86-c31e-4aa8-aac4-a2bbe26d8a88"
      },
      "source": [
        "svm = SVC(gamma='auto')\n",
        "multi_svm = MultiOutputClassifier(svm)\n",
        "multi_svm.fit(X_train, y_train)\n",
        "y_pred = multi_svm.predict(X_test)\n",
        "print(\"Classification Report\")\n",
        "print(classification_report(y_test, y_pred))\n",
        "print(f\"Accuracy = {100*multi_svm.score(X_test, y_test):.02f}%\")"
      ],
      "execution_count": null,
      "outputs": [
        {
          "output_type": "stream",
          "name": "stdout",
          "text": [
            "Classification Report\n",
            "              precision    recall  f1-score   support\n",
            "\n",
            "           0       0.93      0.52      0.67        50\n",
            "           1       0.95      0.91      0.93        44\n",
            "           2       0.84      0.79      0.81        47\n",
            "           3       0.95      0.79      0.86        52\n",
            "           4       0.87      0.41      0.56        63\n",
            "           5       0.82      0.52      0.64        52\n",
            "\n",
            "   micro avg       0.90      0.64      0.75       308\n",
            "   macro avg       0.89      0.66      0.74       308\n",
            "weighted avg       0.89      0.64      0.73       308\n",
            " samples avg       0.67      0.66      0.66       308\n",
            "\n",
            "Accuracy = 62.15%\n"
          ]
        }
      ]
    },
    {
      "cell_type": "code",
      "metadata": {
        "id": "nMj9QJf21u2c"
      },
      "source": [
        ""
      ],
      "execution_count": null,
      "outputs": []
    },
    {
      "cell_type": "code",
      "metadata": {
        "colab": {
          "base_uri": "https://localhost:8080/"
        },
        "id": "KJLNy9io46hK",
        "outputId": "913ddcc0-bab6-4d8c-cccc-f0b38f5aa5fe"
      },
      "source": [
        ""
      ],
      "execution_count": null,
      "outputs": [
        {
          "output_type": "execute_result",
          "data": {
            "text/plain": [
              "array([[-0.2222527 , -0.448964  , -0.67316331, ..., -0.67233147,\n",
              "        -0.71729715, -0.70301759],\n",
              "       [ 1.12228861,  1.27393315,  1.24624433, ...,  0.02734189,\n",
              "        -0.12957995,  0.09558073],\n",
              "       [-0.14199451,  0.63730552,  0.9999504 , ..., -0.65676689,\n",
              "        -0.60241037, -0.50141601],\n",
              "       ...,\n",
              "       [ 0.3347075 , -1.13215532, -1.27569549, ..., -0.49892888,\n",
              "        -0.54592663, -0.54385915],\n",
              "       [ 1.57441504,  1.47911187,  1.28462934, ..., -0.3025834 ,\n",
              "         0.02643628,  1.45444437],\n",
              "       [ 0.64518466,  0.39242102,  0.23990115, ..., -0.41982197,\n",
              "         0.00986182, -0.16686618]])"
            ]
          },
          "metadata": {},
          "execution_count": 15
        }
      ]
    },
    {
      "cell_type": "code",
      "metadata": {
        "id": "eOxfwEwP_1FM"
      },
      "source": [
        ""
      ],
      "execution_count": null,
      "outputs": []
    }
  ]
}